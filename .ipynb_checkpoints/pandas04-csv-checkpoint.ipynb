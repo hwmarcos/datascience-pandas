{
 "cells": [
  {
   "cell_type": "code",
   "execution_count": 3,
   "metadata": {
    "collapsed": true
   },
   "outputs": [],
   "source": [
    "import pandas as pd"
   ]
  },
  {
   "cell_type": "code",
   "execution_count": 7,
   "metadata": {
    "collapsed": true
   },
   "outputs": [],
   "source": [
    "copacabana = pd.read_csv('copacabana.csv', delimiter=';')"
   ]
  },
  {
   "cell_type": "code",
   "execution_count": 16,
   "metadata": {},
   "outputs": [
    {
     "data": {
      "text/plain": [
       "Index(['Posicao', 'Quartos', 'Vagas', 'DistIpanema', 'DistPraia', 'DistFavela',\n",
       "       'RendaMedia', 'RendaMovel', 'RendaMovelRua', 'Vu2009', 'Mes', 'Idade',\n",
       "       'Tipologia', 'AreaConstruida', 'VAL_UNIT', 'X', 'Y'],\n",
       "      dtype='object')"
      ]
     },
     "execution_count": 16,
     "metadata": {},
     "output_type": "execute_result"
    }
   ],
   "source": [
    "copacabana.columns"
   ]
  },
  {
   "cell_type": "code",
   "execution_count": 20,
   "metadata": {},
   "outputs": [
    {
     "data": {
      "text/plain": [
       "count    1675.000000\n",
       "mean        1.767510\n",
       "std         1.142523\n",
       "min         0.010000\n",
       "25%         1.000000\n",
       "50%         2.000000\n",
       "75%         3.000000\n",
       "max         6.000000\n",
       "Name: Quartos, dtype: float64"
      ]
     },
     "execution_count": 20,
     "metadata": {},
     "output_type": "execute_result"
    }
   ],
   "source": [
    "copacabana['Quartos'].describe()"
   ]
  },
  {
   "cell_type": "code",
   "execution_count": 26,
   "metadata": {},
   "outputs": [
    {
     "data": {
      "text/html": [
       "<div>\n",
       "<style>\n",
       "    .dataframe thead tr:only-child th {\n",
       "        text-align: right;\n",
       "    }\n",
       "\n",
       "    .dataframe thead th {\n",
       "        text-align: left;\n",
       "    }\n",
       "\n",
       "    .dataframe tbody tr th {\n",
       "        vertical-align: top;\n",
       "    }\n",
       "</style>\n",
       "<table border=\"1\" class=\"dataframe\">\n",
       "  <thead>\n",
       "    <tr style=\"text-align: right;\">\n",
       "      <th></th>\n",
       "      <th>Posicao</th>\n",
       "      <th>Quartos</th>\n",
       "      <th>Vagas</th>\n",
       "      <th>DistIpanema</th>\n",
       "      <th>DistPraia</th>\n",
       "      <th>DistFavela</th>\n",
       "      <th>RendaMedia</th>\n",
       "      <th>RendaMovel</th>\n",
       "      <th>RendaMovelRua</th>\n",
       "      <th>Vu2009</th>\n",
       "      <th>Mes</th>\n",
       "      <th>Idade</th>\n",
       "      <th>Tipologia</th>\n",
       "      <th>AreaConstruida</th>\n",
       "      <th>VAL_UNIT</th>\n",
       "      <th>X</th>\n",
       "      <th>Y</th>\n",
       "    </tr>\n",
       "  </thead>\n",
       "  <tbody>\n",
       "    <tr>\n",
       "      <th>173</th>\n",
       "      <td>1</td>\n",
       "      <td>5.0</td>\n",
       "      <td>0.01</td>\n",
       "      <td>2696</td>\n",
       "      <td>154</td>\n",
       "      <td>712</td>\n",
       "      <td>1083455</td>\n",
       "      <td>649733</td>\n",
       "      <td>866594</td>\n",
       "      <td>2000</td>\n",
       "      <td>425</td>\n",
       "      <td>55.0</td>\n",
       "      <td>1</td>\n",
       "      <td>38</td>\n",
       "      <td>6316</td>\n",
       "      <td>686522.9800</td>\n",
       "      <td>7458989.87</td>\n",
       "    </tr>\n",
       "    <tr>\n",
       "      <th>748</th>\n",
       "      <td>1</td>\n",
       "      <td>6.0</td>\n",
       "      <td>2.00</td>\n",
       "      <td>2500</td>\n",
       "      <td>35</td>\n",
       "      <td>743</td>\n",
       "      <td>1524600</td>\n",
       "      <td>1275377</td>\n",
       "      <td>1399989</td>\n",
       "      <td>4100</td>\n",
       "      <td>360</td>\n",
       "      <td>58.0</td>\n",
       "      <td>1</td>\n",
       "      <td>668</td>\n",
       "      <td>4491</td>\n",
       "      <td>686456.2500</td>\n",
       "      <td>7458801.05</td>\n",
       "    </tr>\n",
       "    <tr>\n",
       "      <th>1521</th>\n",
       "      <td>1</td>\n",
       "      <td>5.0</td>\n",
       "      <td>3.00</td>\n",
       "      <td>3044</td>\n",
       "      <td>31</td>\n",
       "      <td>609</td>\n",
       "      <td>1524600</td>\n",
       "      <td>1168222</td>\n",
       "      <td>1346411</td>\n",
       "      <td>4100</td>\n",
       "      <td>405</td>\n",
       "      <td>34.0</td>\n",
       "      <td>1</td>\n",
       "      <td>430</td>\n",
       "      <td>5000</td>\n",
       "      <td>686965.3201</td>\n",
       "      <td>7459109.71</td>\n",
       "    </tr>\n",
       "  </tbody>\n",
       "</table>\n",
       "</div>"
      ],
      "text/plain": [
       "      Posicao  Quartos  Vagas  DistIpanema  DistPraia  DistFavela  RendaMedia  \\\n",
       "173         1      5.0   0.01         2696        154         712     1083455   \n",
       "748         1      6.0   2.00         2500         35         743     1524600   \n",
       "1521        1      5.0   3.00         3044         31         609     1524600   \n",
       "\n",
       "      RendaMovel  RendaMovelRua  Vu2009  Mes  Idade  Tipologia  \\\n",
       "173       649733         866594    2000  425   55.0          1   \n",
       "748      1275377        1399989    4100  360   58.0          1   \n",
       "1521     1168222        1346411    4100  405   34.0          1   \n",
       "\n",
       "      AreaConstruida  VAL_UNIT            X           Y  \n",
       "173               38      6316  686522.9800  7458989.87  \n",
       "748              668      4491  686456.2500  7458801.05  \n",
       "1521             430      5000  686965.3201  7459109.71  "
      ]
     },
     "execution_count": 26,
     "metadata": {},
     "output_type": "execute_result"
    }
   ],
   "source": [
    "copacabana.loc[ copacabana['Quartos'] >= 5 ]"
   ]
  },
  {
   "cell_type": "code",
   "execution_count": 27,
   "metadata": {
    "collapsed": true
   },
   "outputs": [],
   "source": [
    "copacabana['total'] = copacabana['AreaConstruida'] * copacabana['VAL_UNIT']"
   ]
  },
  {
   "cell_type": "code",
   "execution_count": 28,
   "metadata": {},
   "outputs": [
    {
     "data": {
      "text/html": [
       "<div>\n",
       "<style>\n",
       "    .dataframe thead tr:only-child th {\n",
       "        text-align: right;\n",
       "    }\n",
       "\n",
       "    .dataframe thead th {\n",
       "        text-align: left;\n",
       "    }\n",
       "\n",
       "    .dataframe tbody tr th {\n",
       "        vertical-align: top;\n",
       "    }\n",
       "</style>\n",
       "<table border=\"1\" class=\"dataframe\">\n",
       "  <thead>\n",
       "    <tr style=\"text-align: right;\">\n",
       "      <th></th>\n",
       "      <th>Posicao</th>\n",
       "      <th>Quartos</th>\n",
       "      <th>Vagas</th>\n",
       "      <th>DistIpanema</th>\n",
       "      <th>DistPraia</th>\n",
       "      <th>DistFavela</th>\n",
       "      <th>RendaMedia</th>\n",
       "      <th>RendaMovel</th>\n",
       "      <th>RendaMovelRua</th>\n",
       "      <th>Vu2009</th>\n",
       "      <th>Mes</th>\n",
       "      <th>Idade</th>\n",
       "      <th>Tipologia</th>\n",
       "      <th>AreaConstruida</th>\n",
       "      <th>VAL_UNIT</th>\n",
       "      <th>X</th>\n",
       "      <th>Y</th>\n",
       "      <th>total</th>\n",
       "    </tr>\n",
       "  </thead>\n",
       "  <tbody>\n",
       "    <tr>\n",
       "      <th>173</th>\n",
       "      <td>1</td>\n",
       "      <td>5.0</td>\n",
       "      <td>0.01</td>\n",
       "      <td>2696</td>\n",
       "      <td>154</td>\n",
       "      <td>712</td>\n",
       "      <td>1083455</td>\n",
       "      <td>649733</td>\n",
       "      <td>866594</td>\n",
       "      <td>2000</td>\n",
       "      <td>425</td>\n",
       "      <td>55.0</td>\n",
       "      <td>1</td>\n",
       "      <td>38</td>\n",
       "      <td>6316</td>\n",
       "      <td>686522.9800</td>\n",
       "      <td>7458989.87</td>\n",
       "      <td>240008</td>\n",
       "    </tr>\n",
       "    <tr>\n",
       "      <th>748</th>\n",
       "      <td>1</td>\n",
       "      <td>6.0</td>\n",
       "      <td>2.00</td>\n",
       "      <td>2500</td>\n",
       "      <td>35</td>\n",
       "      <td>743</td>\n",
       "      <td>1524600</td>\n",
       "      <td>1275377</td>\n",
       "      <td>1399989</td>\n",
       "      <td>4100</td>\n",
       "      <td>360</td>\n",
       "      <td>58.0</td>\n",
       "      <td>1</td>\n",
       "      <td>668</td>\n",
       "      <td>4491</td>\n",
       "      <td>686456.2500</td>\n",
       "      <td>7458801.05</td>\n",
       "      <td>2999988</td>\n",
       "    </tr>\n",
       "    <tr>\n",
       "      <th>1521</th>\n",
       "      <td>1</td>\n",
       "      <td>5.0</td>\n",
       "      <td>3.00</td>\n",
       "      <td>3044</td>\n",
       "      <td>31</td>\n",
       "      <td>609</td>\n",
       "      <td>1524600</td>\n",
       "      <td>1168222</td>\n",
       "      <td>1346411</td>\n",
       "      <td>4100</td>\n",
       "      <td>405</td>\n",
       "      <td>34.0</td>\n",
       "      <td>1</td>\n",
       "      <td>430</td>\n",
       "      <td>5000</td>\n",
       "      <td>686965.3201</td>\n",
       "      <td>7459109.71</td>\n",
       "      <td>2150000</td>\n",
       "    </tr>\n",
       "  </tbody>\n",
       "</table>\n",
       "</div>"
      ],
      "text/plain": [
       "      Posicao  Quartos  Vagas  DistIpanema  DistPraia  DistFavela  RendaMedia  \\\n",
       "173         1      5.0   0.01         2696        154         712     1083455   \n",
       "748         1      6.0   2.00         2500         35         743     1524600   \n",
       "1521        1      5.0   3.00         3044         31         609     1524600   \n",
       "\n",
       "      RendaMovel  RendaMovelRua  Vu2009  Mes  Idade  Tipologia  \\\n",
       "173       649733         866594    2000  425   55.0          1   \n",
       "748      1275377        1399989    4100  360   58.0          1   \n",
       "1521     1168222        1346411    4100  405   34.0          1   \n",
       "\n",
       "      AreaConstruida  VAL_UNIT            X           Y    total  \n",
       "173               38      6316  686522.9800  7458989.87   240008  \n",
       "748              668      4491  686456.2500  7458801.05  2999988  \n",
       "1521             430      5000  686965.3201  7459109.71  2150000  "
      ]
     },
     "execution_count": 28,
     "metadata": {},
     "output_type": "execute_result"
    }
   ],
   "source": [
    "copacabana.loc[ copacabana['Quartos'] >= 5 ]"
   ]
  },
  {
   "cell_type": "code",
   "execution_count": null,
   "metadata": {
    "collapsed": true
   },
   "outputs": [],
   "source": []
  }
 ],
 "metadata": {
  "kernelspec": {
   "display_name": "Python 3",
   "language": "python",
   "name": "python3"
  },
  "language_info": {
   "codemirror_mode": {
    "name": "ipython",
    "version": 3
   },
   "file_extension": ".py",
   "mimetype": "text/x-python",
   "name": "python",
   "nbconvert_exporter": "python",
   "pygments_lexer": "ipython3",
   "version": "3.6.1"
  }
 },
 "nbformat": 4,
 "nbformat_minor": 2
}
